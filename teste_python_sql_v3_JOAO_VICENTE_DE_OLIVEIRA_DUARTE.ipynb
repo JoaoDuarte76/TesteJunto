{
 "cells": [
  {
   "cell_type": "markdown",
   "metadata": {},
   "source": [
    "### TESTE PYTHON ###\n",
    "\n",
    "1. Para responder as perguntas utilize celulas entre uma e outra pergunta.\n",
    "\n",
    "2. Pra responder as perguntas utilizar o dataset __[Electoral Donations in Brazil](https://www.kaggle.com/felipeleiteantunes/electoral-donations-brazil2014)__ do Keggle\n",
    "    \n",
    "3. O download tem um arquivo zip com vários arquivos, porém vamos utilizar somente o arquivo: receitas_candidatos_2014_brasil_english.csv\n",
    "\n",
    "\n",
    "#### Obs.: No código considere que o arquivo está no mesmo diretório onde irá executar o seu código python.\n"
   ]
  },
  {
   "cell_type": "markdown",
   "metadata": {},
   "source": [
    "### 1. Imprima seu nome completo utilizando Python"
   ]
  },
  {
   "cell_type": "code",
   "execution_count": 2,
   "metadata": {},
   "outputs": [
    {
     "name": "stdout",
     "output_type": "stream",
     "text": [
      "João Vicente de Oliveira Duarte\n"
     ]
    }
   ],
   "source": [
    "# Desenvolva a Resposta Aqui\n",
    "\n",
    "print(\"João Vicente de Oliveira Duarte\")"
   ]
  },
  {
   "cell_type": "markdown",
   "metadata": {},
   "source": [
    "### 2. Criação de um novo arquivo processado\n",
    "\n",
    "1. Formato do Arquivo: \"parquet\"\n",
    "2. Nome \"doacoes_por_partido.parquet\"\n",
    "3. Colunas:\n",
    "    - Partido\n",
    "    - Estado\n",
    "    - ValorDoado - Soma de valor das doações agrupando partido e estado\n",
    "    - ValorDoadoPorEstado - Soma de todas as doações agrupando somente o estado\n",
    "    - Percentual - Razão entre o Valor doado para cada partido pelo valor doado Total do estado\n",
    "\n",
    "\n",
    "\n",
    "#### Com base nas informações acima construir um codigo Python que processe os dados do arquivo \"receitas_candidatos_2014_brasil_english.csv\" e gere um novo arquivo somente com as colunas desejadas."
   ]
  },
  {
   "cell_type": "code",
   "execution_count": null,
   "metadata": {},
   "outputs": [],
   "source": [
    "# Desenvolva a Resposta Aqui\n",
    "## O arquivo csv nao veio junto com o teste.Nao foi possivel compilar o programa.\n",
    "\n",
    "\n",
    "import pandas as pd\n",
    "\n",
    "# Ler arquivo csv\n",
    "df = pd.read_csv('receitas_candidatos_2014_brasil_english.csv')\n",
    "\n",
    "# Gera dataframe com os dados de partido e estado\n",
    "dfPartidoEstado = df[['Partido', 'Estado', 'ValorDoado']]\n",
    "\n",
    "# Gera dataframe com valor somado e agrupado por partido e estado\n",
    "dfPartidoEstadoAgg = dfPartidoEstado.groupby(['Partido', 'Estado'], as_index=False).agg({'ValorDoado': 'sum'})\n",
    "\n",
    "# Gera dataframe com os dados de estado\n",
    "dfEstado = df[['Estado', 'ValorDoado']]\n",
    "\n",
    "# Gera dataframe com valor somado e agrupado por estado\n",
    "dfEstadoAgg = dfEstado.groupby('Estado', as_index=False).agg({'ValorDoadoPorEstado': 'sum'})\n",
    "\n",
    "# Gera porcentagem entre os valores de cada estado\n",
    "dfMerge = dfPartidoEstadoAgg.merge(dfEstadoAgg, on='Estado')\n",
    "\n",
    "dfMerge['Percentual'] = (dfMerge['ValorDoado']/dfMerge['ValorDoadoPorEstado'])\n",
    "\n",
    "dfFinal = dfMerge[['Partido', 'Estado', 'ValorDoado', 'ValorDoadoPorEstado', 'Percentual']]\n",
    "\n",
    "# Salva arquvo no formato parquet\n",
    "dfFinal.to_parquet('doacoes_por_partido.parquet')\n",
    "\n"
   ]
  },
  {
   "cell_type": "markdown",
   "metadata": {},
   "source": [
    "### 3. Ler arquivo e imprimir informações na tela\n",
    "\n",
    "#### Com base no arquivo gerado no item anterior \"doacoes_por_partido.parquet\" criar dois codigos em Python que respondam as seguintes perguntas?\n",
    "\n",
    "3.1 - Imprimir uma lista utilizando Python \n",
    "    - Criar uma lista com Estado, Partido, Percentual de doação\n",
    "    - Filtrar somente os partidos com maiores doações em cada estado\n",
    "    - Ordenar a lista pelo percentual de doação decrescente.\n",
    "\n",
    "3.2 - Imprimir uma lista utilizando Python \n",
    "    - Imprimir todas as colunas do arquivo\n",
    "    - Filtrar pelos top 20 maiores valores na coluna ValorDoado\n",
    "        \n",
    " "
   ]
  },
  {
   "cell_type": "code",
   "execution_count": null,
   "metadata": {},
   "outputs": [],
   "source": [
    "# Desenvolva a Resposta do item 3.1 Aqui\n",
    "\n",
    "# Le arquivo partquet\n",
    "dfParquet = pd.read_parquet('doacoes_por_partido.parquet')\n",
    "\n",
    "# Gera dataframe com os dados do partido\n",
    "dfPartido = dfParquet[['Estado', 'Partido', 'Percentual']]\n",
    "\n",
    "# O resultado do exercício anterior já classificou o percentual do partido por estado, sendo assim um print soluciona o exercício\n",
    "print(dfPartido)\n",
    "\n"
   ]
  },
  {
   "cell_type": "code",
   "execution_count": null,
   "metadata": {},
   "outputs": [],
   "source": [
    "# Desenvolva a Resposta do item 3.2 Aqui\n",
    "# Le arquivo partquet\n",
    "dfParquet = pd.read_parquet('doacoes_por_partido.parquet')\n",
    "\n",
    "# Imprime as colunas do dataframe\n",
    "print(list(dfParquet.columns))\n",
    "\n",
    "# Ordena o dataframe\n",
    "dfOrdenado = dfParquet.sort_values(by='ValorDoado', ascending=False)\n",
    "\n",
    "# Seleciona os top 20\n",
    "dfTop20 = dfOrdenado[:20]\n",
    "\n"
   ]
  },
  {
   "cell_type": "markdown",
   "metadata": {},
   "source": [
    "### 4. Lógica de programação \n",
    "\n",
    "1. Desenvolva utilizando **estruturas de repetição**, uma função que receba um vetor e um inteiro por parâmetro, e realize um shift no vetor do tamanho do número inteiro recebido.\n",
    "        \n",
    "- O tamanho do shift deverá aceitar números negativos também. O sinal do tamanho servirá para definir a direção do shift.\n",
    "    - Números positivos indicam o shift da direita para a esquerda.\n",
    "    - Números negativos indicam o shift da esquerda para a direita.\n",
    "    \n",
    "    \n",
    "- **Não serão aceitas respostas do tipo:**\n",
    "    - \"return vetor[-tamanho:] + vetor[:-tamanho]\""
   ]
  },
  {
   "cell_type": "code",
   "execution_count": null,
   "metadata": {},
   "outputs": [],
   "source": [
    "# Desenvolva a Resposta do item 4 aqui\n",
    "def shift(vetor, tamanho):\n",
    "    "
   ]
  },
  {
   "cell_type": "markdown",
   "metadata": {},
   "source": [
    "#### Execute os campos a baixo para validar a função criada."
   ]
  },
  {
   "cell_type": "markdown",
   "metadata": {},
   "source": [
    "##### Tamanho 1 - Resultado esperado [9,0,1,2,3,4,5,6,7,8]"
   ]
  },
  {
   "cell_type": "code",
   "execution_count": null,
   "metadata": {},
   "outputs": [],
   "source": [
    "vetor = [0,1,2,3,4,5,6,7,8,9]\n",
    "ret = shift(vetor, 1)\n",
    "print(ret)"
   ]
  },
  {
   "cell_type": "markdown",
   "metadata": {},
   "source": [
    "##### Tamanho 2 - Resultado esperado: [8,9,0,1,2,3,4,5,6,7]:"
   ]
  },
  {
   "cell_type": "code",
   "execution_count": null,
   "metadata": {},
   "outputs": [],
   "source": [
    "vetor = [0,1,2,3,4,5,6,7,8,9]\n",
    "ret = shift(vetor, 2)\n",
    "print(ret)"
   ]
  },
  {
   "cell_type": "markdown",
   "metadata": {},
   "source": [
    "##### Tamanho -1 - Resultado esperado [1,2,3,4,5,6,7,8,9,0]"
   ]
  },
  {
   "cell_type": "code",
   "execution_count": null,
   "metadata": {},
   "outputs": [],
   "source": [
    "vetor = [0,1,2,3,4,5,6,7,8,9]\n",
    "ret = shift(vetor, -1)\n",
    "print(ret)"
   ]
  },
  {
   "cell_type": "markdown",
   "metadata": {},
   "source": [
    "##### Tamanho -2 - Resultado esperado [2,3,4,5,6,7,8,9,0,1]"
   ]
  },
  {
   "cell_type": "code",
   "execution_count": null,
   "metadata": {},
   "outputs": [],
   "source": [
    "vetor = [0,1,2,3,4,5,6,7,8,9]\n",
    "ret = shift(vetor, -2)\n",
    "print(ret)"
   ]
  },
  {
   "cell_type": "markdown",
   "metadata": {},
   "source": [
    "### 5. Web Scraping"
   ]
  },
  {
   "cell_type": "markdown",
   "metadata": {},
   "source": [
    "- 5.1 Desenvolva um algorítmo capaz de retornar os valores do mês atual, acumulado no ano e acumulado nos últimos 12 meses para os seguintes indicadores econômicos:\n",
    "    - Selic\n",
    "    - CDI\n",
    "    - Ibovespa\n",
    "    - Dólar Comercial (mercado)\n",
    "    - IPCA\n",
    "    - IGPM\n",
    "- Os dados devem ser retirados do site __[Valor Econômico](https://www.valor.com.br/valor-data/tabela/5810/evolucao-das-aplicacoes-financeiras)__"
   ]
  },
  {
   "cell_type": "code",
   "execution_count": null,
   "metadata": {},
   "outputs": [],
   "source": [
    "# Desenvolva a Resposta do item 5.1 Aqui\n"
   ]
  },
  {
   "cell_type": "markdown",
   "metadata": {},
   "source": [
    "- 5.2 Desenvolva um algorítmo capaz de retornar os valores das maiores altas e as maiores baixas do dia na bolsa de valores de São Paulo. Dados a serem retornados:\n",
    "    - Nome do papel (ex: PETR4)\n",
    "    - Ultimo valor\n",
    "    - Variação\n",
    "- Os dados podem ser retirados dos sites \n",
    "    - __[O Globo](https://oglobo.globo.com/economia/indicadores/)__\n",
    "    - __[Infomoney](https://www.infomoney.com.br/)__\n",
    "    - __[ADVFN](https://br.advfn.com/)__"
   ]
  },
  {
   "cell_type": "code",
   "execution_count": null,
   "metadata": {},
   "outputs": [],
   "source": [
    "# Desenvolva a Resposta do item 5.2 Aqui\n"
   ]
  },
  {
   "cell_type": "markdown",
   "metadata": {},
   "source": [
    "### TESTE PYTHON + SQL ###\n",
    "\n",
    "1. Utilize um banco de dados(SQL) de sua preferencia.\n",
    "2. Se seu banco de dados tiver limite de espaço, adapte o dataset do python para que possa funcionar. Vamos analisar o código.\n",
    "3. **Não esqueça de retirar os dados de acesso ao seu banco de dados LOGIN e SENHA ao enviar a resposta**"
   ]
  },
  {
   "cell_type": "markdown",
   "metadata": {},
   "source": [
    "### 6. Gravar arquivos em uma tabela de banco de dados\n",
    "\n",
    "#### A partir do arquivo receitas_candidatos_2014_brasil_english.csv executar um codigo em python que grave os dados do arquivo em uma tabela do banco de dados\n",
    "\n",
    "Considere o seguinte cenario:\n",
    "\n",
    "1. Estamos criando uma rotina para inserir registros do arquivo no banco de dados.\n",
    "2. Ao executar a primeira vez o codigo, se a tabela não existir ela devera ser criada.\n",
    "    - Ao Criar a tabela ou inserir dados, converter os registros de data/hora e númericos para o tipo correspondente no banco de dados\n",
    "3. O nome da tabela deve ser TABELA_DOACOES\n",
    "4. O Arquivo não tem uma chave unica, então vamos criar uma com o nome di_doacao, para considerar um registro unico, considere 3 colunas:\n",
    "    - dat_donation_date\n",
    "    - id_donator_cpf_cnpj\n",
    "    - id_candidate_cpf\n",
    "    - Quando uma doação tiver a mesma chave(campos acima) vamos considerar o valor mais alto de doacao para inserir na base de dados.\n",
    "5. Em uma nova carga devemos analisar se um registro com a mesma chave já existe na tabela:\n",
    "    - Caso não exista, vamos inserir o registro\n",
    "    - Caso exista vamos analisar se o valor doado atual é maior que o valor. Caso seja maior atualizar o registro, caso contrario não efetuar nenhuma alteração\n",
    "    \n",
    "##### Obs.: Considerar que o arquivo sempre será uma extração full da origem, ou seja, sempre terá todos os dados que já foram processados e dados novos\n",
    "        \n",
    " "
   ]
  },
  {
   "cell_type": "code",
   "execution_count": null,
   "metadata": {},
   "outputs": [],
   "source": [
    "# Desenvolva a Resposta do item 6 Aqui\n"
   ]
  },
  {
   "cell_type": "markdown",
   "metadata": {},
   "source": [
    "### TESTE SQL ###\n",
    "\n",
    "1. Utilize um banco de dados(SQL) de sua preferencia.\n",
    "\n",
    "2. De Preferencia utilize a tabela criada no item anterior, caso não tenha a tabela faça uma carga do arquivo receitas_candidatos_2014_brasil_english.csv em uma tabela chamada TABELA_DOACOES. Se seu banco de dados tiver limite de espaço, adapte a quantidade de linhas para inserir na tabela. Vamos analisar as instruções SQL.\n",
    "    \n",
    "\n",
    "#### Obs.: Somente cole a instrução SQL nas celulas.\n"
   ]
  },
  {
   "cell_type": "markdown",
   "metadata": {},
   "source": [
    "### 7. Crie uma query que responda:\n",
    "\n",
    "#### Quais são os 10 candidatos que receberam mais doações\n",
    "        \n",
    " "
   ]
  },
  {
   "cell_type": "code",
   "execution_count": null,
   "metadata": {},
   "outputs": [],
   "source": [
    "# Cole a instrução SQL aqui\n",
    "\n",
    "## Nao recebi a tabela receitas_candidatos_2014_brasil_english.csv para efetuar os testes, criei as querys sem uma \n",
    "## tabela com o nome dos campos.\n",
    "\n",
    "\n",
    "select top (10) NomeCanditado, sum(Vlr_Doacao) as Vlr_Doacao_total\n",
    "from tabela\n",
    "group by NomeCandidato \n",
    "order by sum(Vlr_Doacao) desc"
   ]
  },
  {
   "cell_type": "markdown",
   "metadata": {},
   "source": [
    "### 8. Crie uma query que responda:\n",
    "\n",
    "#### Para o posto(cat_political_office) de \"Deputado Federal\" qual o valor que cada candidato recebeu, o valor médio de doções e a relação entre os dois, ordene pelos candidatos com mais doações relativas.\n",
    " "
   ]
  },
  {
   "cell_type": "code",
   "execution_count": null,
   "metadata": {},
   "outputs": [],
   "source": [
    "# Cole a instrução SQL aqui\n",
    "\n",
    "select a.NomeCanditado,\n",
    "       a.Vlr_Doacao,\n",
    "       a.AvgDoacoes,\n",
    "       (a.Vlr_Doacao/a.AvgDoacoes) as Doacao_relacao\n",
    "from (select NomeCanditado, \n",
    "             Vlr_Doacao, \n",
    "             avg(Vlr_Doacao) OVER (PARTITION BY NomeCanditado) as AvgDoacoes\n",
    "      from tabela\n",
    "      where posto = 'cat_political_office') as a\n",
    "order by (a.Vlr_Doacao/a.AvgDoacoes) desc"
   ]
  },
  {
   "cell_type": "markdown",
   "metadata": {},
   "source": [
    "### 9. Crie uma query que responda:\n",
    "\n",
    "#### Liste todos os candidatos, o seu valor recebido em doação, o valor médio de doações pelo posto correspondente ao do candidato e a relação entre o Recebido pelo candidato e a média do posto concorrido.\n",
    " "
   ]
  },
  {
   "cell_type": "code",
   "execution_count": null,
   "metadata": {},
   "outputs": [],
   "source": [
    "# Cole a instrução SQL aqui\n",
    "\n",
    "select a.NomeCanditado,\n",
    "       a.Vlr_Doacao,\n",
    "       a.AvgDoacoes,\n",
    "       (a.Vlr_Doacao/a.AvgDoacoesPosto) as Doacao_relacao_posto\n",
    "from (select NomeCanditado, \n",
    "             Vlr_Doacao, \n",
    "             avg(Vlr_Doacao) OVER (PARTITION BY posto) as AvgDoacoesPosto\n",
    "      from tabela\n",
    "      where posto = 'cat_political_office') as a\n",
    "order by (a.Vlr_Doacao/a.AvgDoacoesPosto) desc"
   ]
  },
  {
   "cell_type": "markdown",
   "metadata": {},
   "source": [
    "### 10. Crie uma query que responda:\n",
    "\n",
    "#### Crie uma tabela com base no resultado anterior, filtrando somente candidatos que receberam mais do que 0,1% da média total do seu posto.\n",
    " "
   ]
  },
  {
   "cell_type": "code",
   "execution_count": null,
   "metadata": {},
   "outputs": [],
   "source": [
    "# Cole a instrução SQL aqui\n",
    "\n",
    "create table Doacoes_canditato_posto as \n",
    "select *\n",
    "from (select a.NomeCanditado,\n",
    "             a.Vlr_Doacao,\n",
    "             a.AvgDoacoes,\n",
    "            (a.Vlr_Doacao/a.AvgDoacoesPosto) as Doacao_relacao_posto\n",
    "     from (select NomeCanditado, \n",
    "                  Vlr_Doacao, \n",
    "                  avg(Vlr_Doacao) OVER (PARTITION BY posto) as AvgDoacoesPosto\n",
    "           from tabela\n",
    "           where posto = 'cat_political_office') as a\n",
    "     order by (a.Vlr_Doacao/a.AvgDoacoesPosto) desc) b\n",
    "where b.Doacao_relacao_posto > 0.1\n",
    "    \n"
   ]
  }
 ],
 "metadata": {
  "kernelspec": {
   "display_name": "Python 3",
   "language": "python",
   "name": "python3"
  },
  "language_info": {
   "codemirror_mode": {
    "name": "ipython",
    "version": 3
   },
   "file_extension": ".py",
   "mimetype": "text/x-python",
   "name": "python",
   "nbconvert_exporter": "python",
   "pygments_lexer": "ipython3",
   "version": "3.8.0"
  }
 },
 "nbformat": 4,
 "nbformat_minor": 2
}
